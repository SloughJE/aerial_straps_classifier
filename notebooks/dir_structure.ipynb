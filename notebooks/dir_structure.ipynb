{
 "cells": [
  {
   "cell_type": "code",
   "execution_count": 3,
   "metadata": {},
   "outputs": [],
   "source": [
    "import os"
   ]
  },
  {
   "cell_type": "code",
   "execution_count": 6,
   "metadata": {},
   "outputs": [],
   "source": [
    "def list_files(startpath, important_paths):\n",
    "    descriptions = {\n",
    "        \"README.md\": \"The top-level README for developers using this project.\",\n",
    "        \"data\": \"All the data used in this project (raw, interim, processed, and results).\",\n",
    "        \"models\": \"Trained and serialized models, model predictions, or model summaries.\",\n",
    "        \"notebooks\": \"Jupyter notebooks with a specific naming convention.\",\n",
    "        \"requirements.txt\": \"The requirements file for reproducing the analysis environment.\",\n",
    "        \"src\": \"Source code for use in this project.\",\n",
    "        \"params.yml\": \"Parameters file.\",\n",
    "        # Add new descriptions here\n",
    "    }\n",
    "    \n",
    "    # Prepend the startpath to each item in important_paths\n",
    "    important_paths = [os.path.join(startpath, p) for p in important_paths]\n",
    "    \n",
    "    with open('directory_structure.md', 'w') as f:\n",
    "        for root, dirs, files in os.walk(startpath):\n",
    "            level = root.replace(startpath, '').count(os.sep)\n",
    "            indent = ' ' * 4 * (level)\n",
    "            if root in important_paths or startpath == root:\n",
    "                f.write(f'{indent}{os.path.basename(root)}/\\n')\n",
    "                if os.path.basename(root) in descriptions:\n",
    "                    f.write(f'{indent}    <- {descriptions[os.path.basename(root)]}\\n')\n",
    "            subindent = ' ' * 4 * (level + 1)\n",
    "            for file in files:\n",
    "                file_path = os.path.join(root, file)\n",
    "                if file_path in important_paths:\n",
    "                    f.write(f'{subindent}{file}\\n')\n",
    "                    if file in descriptions:\n",
    "                        f.write(f'{subindent}    <- {descriptions[file]}\\n')\n"
   ]
  },
  {
   "cell_type": "code",
   "execution_count": 9,
   "metadata": {},
   "outputs": [],
   "source": [
    "# Specify the path to your project root folder here\n",
    "path = \"../\"\n",
    "# List the directories and files you want to include\n",
    "important_paths = [\n",
    "    \"README.md\",\n",
    "    \"data\",\n",
    "    \"data/raw\",\n",
    "    \"data/interim\",\n",
    "    \"data/processed\",\n",
    "    \"data/results\",\n",
    "    \"models\",\n",
    "    \"notebooks\",\n",
    "    \"requirements.txt\",\n",
    "    \"src\",\n",
    "    \"src/data\",\n",
    "    \"src/features\",\n",
    "    \"src/models\",\n",
    "    \"src/visualization\",\n",
    "    \"params.yml\",\n",
    "    # Add new essential paths here\n",
    "]\n"
   ]
  },
  {
   "cell_type": "code",
   "execution_count": 10,
   "metadata": {},
   "outputs": [],
   "source": [
    "list_files(path, important_paths)"
   ]
  },
  {
   "cell_type": "code",
   "execution_count": null,
   "metadata": {},
   "outputs": [],
   "source": []
  }
 ],
 "metadata": {
  "kernelspec": {
   "display_name": "Python 3",
   "language": "python",
   "name": "python3"
  },
  "language_info": {
   "codemirror_mode": {
    "name": "ipython",
    "version": 3
   },
   "file_extension": ".py",
   "mimetype": "text/x-python",
   "name": "python",
   "nbconvert_exporter": "python",
   "pygments_lexer": "ipython3",
   "version": "3.10.4"
  },
  "orig_nbformat": 4
 },
 "nbformat": 4,
 "nbformat_minor": 2
}
